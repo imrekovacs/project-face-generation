{
 "cells": [
  {
   "cell_type": "markdown",
   "metadata": {},
   "source": [
    "# Face Generation - Part 2\n",
    "\n",
    "The objective of this second part of the project face generation is to redesign the GAN-architecture from part 1 and improve the image quality and image sizes.\n",
    "\n",
    "We need high-quality and higher-resolution images for training the improved GAn in order to have improved generated images. [CelebA-128](http://mmlab.ie.cuhk.edu.hk/projects/CelebA.html) is a dataset with 200k celebrities images,  having 128x128 pixels images and is used for this second part. We need to pre-process the data again.\n",
    "\n",
    "Plan of attack\n",
    "- download complete image CelebA-128 \n",
    "- visualize 128x128 images\n",
    "- apply facial landmark to select faces\n",
    "- discard images with no landmark to reduce training input variance\n",
    "- zoom to face/crop and resample to 128x128  \n",
    "- use model trained in part 1 to with downscaled 32x32 to compare results\n",
    "- add layers one by one and retrain to increase image sizes\n",
    "\n"
   ]
  },
  {
   "cell_type": "code",
   "execution_count": 1,
   "metadata": {},
   "outputs": [],
   "source": [
    "# can comment out after executing\n",
    "#!unzip processed_celeba_small.zip"
   ]
  },
  {
   "cell_type": "code",
   "execution_count": 1,
   "metadata": {},
   "outputs": [],
   "source": [
    "data_dir = 'processed_celeba_small/'\n",
    "\n",
    "\"\"\"\n",
    "DON'T MODIFY ANYTHING IN THIS CELL\n",
    "\"\"\"\n",
    "import pickle as pkl\n",
    "import matplotlib.pyplot as plt\n",
    "import numpy as np\n",
    "import problem_unittests as tests\n",
    "#import helper\n",
    "\n",
    "%matplotlib inline"
   ]
  },
  {
   "cell_type": "code",
   "execution_count": 2,
   "metadata": {},
   "outputs": [
    {
     "ename": "ModuleNotFoundError",
     "evalue": "No module named 'dlib'",
     "output_type": "error",
     "traceback": [
      "\u001b[1;31m---------------------------------------------------------------------------\u001b[0m",
      "\u001b[1;31mModuleNotFoundError\u001b[0m                       Traceback (most recent call last)",
      "\u001b[1;32m<ipython-input-2-e91f3b186ffe>\u001b[0m in \u001b[0;36m<module>\u001b[1;34m\u001b[0m\n\u001b[0;32m      1\u001b[0m \u001b[1;32mimport\u001b[0m \u001b[0mcv2\u001b[0m\u001b[1;33m\u001b[0m\u001b[1;33m\u001b[0m\u001b[0m\n\u001b[0;32m      2\u001b[0m \u001b[1;32mimport\u001b[0m \u001b[0mnumpy\u001b[0m \u001b[1;32mas\u001b[0m \u001b[0mnp\u001b[0m\u001b[1;33m\u001b[0m\u001b[1;33m\u001b[0m\u001b[0m\n\u001b[1;32m----> 3\u001b[1;33m \u001b[1;32mimport\u001b[0m \u001b[0mdlib\u001b[0m\u001b[1;33m\u001b[0m\u001b[1;33m\u001b[0m\u001b[0m\n\u001b[0m\u001b[0;32m      4\u001b[0m \u001b[1;33m\u001b[0m\u001b[0m\n\u001b[0;32m      5\u001b[0m \u001b[0mcap\u001b[0m \u001b[1;33m=\u001b[0m \u001b[0mcv2\u001b[0m\u001b[1;33m.\u001b[0m\u001b[0mVideoCapture\u001b[0m\u001b[1;33m(\u001b[0m\u001b[1;36m0\u001b[0m\u001b[1;33m)\u001b[0m\u001b[1;33m\u001b[0m\u001b[1;33m\u001b[0m\u001b[0m\n",
      "\u001b[1;31mModuleNotFoundError\u001b[0m: No module named 'dlib'"
     ]
    }
   ],
   "source": [
    "import cv2\n",
    "import numpy as np\n",
    "import dlib\n",
    "\n",
    "cap = cv2.VideoCapture(0)\n",
    "\n",
    "detector = dlib.get_frontal_face_detector()\n",
    "predictor = dlib.shape_predictor(\"shape_predictor_68_face_landmarks.dat\")\n",
    "\n",
    "while True:\n",
    "    _, frame = cap.read()\n",
    "    gray = cv2.cvtColor(frame, cv2.COLOR_BGR2GRAY)\n",
    "\n",
    "    faces = detector(gray)\n",
    "    for face in faces:\n",
    "        x1 = face.left()\n",
    "        y1 = face.top()\n",
    "        x2 = face.right()\n",
    "        y2 = face.bottom()\n",
    "        #cv2.rectangle(frame, (x1, y1), (x2, y2), (0, 255, 0), 3)\n",
    "\n",
    "        landmarks = predictor(gray, face)\n",
    "\n",
    "        for n in range(0, 68):\n",
    "            x = landmarks.part(n).x\n",
    "            y = landmarks.part(n).y\n",
    "            cv2.circle(frame, (x, y), 4, (255, 0, 0), -1)\n",
    "\n",
    "\n",
    "    cv2.imshow(\"Frame\", frame)\n",
    "\n",
    "    key = cv2.waitKey(1)\n",
    "    if key == 27:\n",
    "        break"
   ]
  },
  {
   "cell_type": "markdown",
   "metadata": {},
   "source": [
    "## Visualize the CelebA Data\n",
    "\n",
    "The [CelebA](http://mmlab.ie.cuhk.edu.hk/projects/CelebA.html) dataset contains over 200,000 celebrity images with annotations. Since you're going to be generating faces, you won't need the annotations, you'll only need the images. Note that these are color images with [3 color channels (RGB)](https://en.wikipedia.org/wiki/Channel_(digital_image)#RGB_Images) each.\n",
    "\n",
    "### Pre-process and Load the Data\n",
    "\n",
    "Since the project's main focus is on building the GANs, we've done *some* of the pre-processing for you. Each of the CelebA images has been cropped to remove parts of the image that don't include a face, then resized down to 64x64x3 NumPy images. This *pre-processed* dataset is a smaller subset of the very large CelebA data.\n",
    "\n",
    "> There are a few other steps that you'll need to **transform** this data and create a **DataLoader**.\n",
    "\n",
    "#### Exercise: Complete the following `get_dataloader` function, such that it satisfies these requirements:\n",
    "\n",
    "* Your images should be square, Tensor images of size `image_size x image_size` in the x and y dimension.\n",
    "* Your function should return a DataLoader that shuffles and batches these Tensor images.\n",
    "\n",
    "#### ImageFolder\n",
    "\n",
    "To create a dataset given a directory of images, it's recommended that you use PyTorch's [ImageFolder](https://pytorch.org/docs/stable/torchvision/datasets.html#imagefolder) wrapper, with a root directory `processed_celeba_small/` and data transformation passed in."
   ]
  },
  {
   "cell_type": "code",
   "execution_count": 3,
   "metadata": {},
   "outputs": [],
   "source": [
    "# necessary imports\n",
    "import torch\n",
    "from torchvision import datasets\n",
    "from torchvision import transforms\n",
    "import os"
   ]
  },
  {
   "cell_type": "code",
   "execution_count": 4,
   "metadata": {},
   "outputs": [],
   "source": [
    "def get_dataloader(batch_size, image_size, data_dir='processed_celeba_small/'):\n",
    "    \"\"\"\n",
    "    Batch the neural network data using DataLoader\n",
    "    :param batch_size: The size of each batch; the number of images in a batch\n",
    "    :param img_size: The square size of the image data (x, y)\n",
    "    :param data_dir: Directory where image data is located\n",
    "    :return: DataLoader with batched data\n",
    "    \"\"\"   \n",
    "    \n",
    "    # TODO: Implement function and return a dataloader\n",
    "    num_workers = 0\n",
    "    \n",
    "    # perform data transform WITHOUT DATA AUGMENTATION for training data\n",
    "    transform = transforms.Compose([transforms.Resize(image_size),\n",
    "                                    transforms.ToTensor()])\n",
    "    \n",
    "    image_dataset = datasets.ImageFolder(data_dir, transform=transform)                                           \n",
    "                                               \n",
    "    data_loader = torch.utils.data.DataLoader(dataset=image_dataset, \n",
    "                                           batch_size=batch_size, \n",
    "                                           num_workers=num_workers, \n",
    "                                           shuffle=True)\n",
    "    \n",
    "    return data_loader\n"
   ]
  },
  {
   "cell_type": "markdown",
   "metadata": {},
   "source": [
    "## Create a DataLoader\n",
    "\n",
    "#### Exercise: Create a DataLoader `celeba_train_loader` with appropriate hyperparameters.\n",
    "\n",
    "Call the above function and create a dataloader to view images. \n",
    "* You can decide on any reasonable `batch_size` parameter\n",
    "* Your `image_size` **must be** `32`. Resizing the data to a smaller size will make for faster training, while still creating convincing images of faces!"
   ]
  },
  {
   "cell_type": "code",
   "execution_count": 5,
   "metadata": {},
   "outputs": [],
   "source": [
    "# Define function hyperparameters\n",
    "batch_size = 32\n",
    "img_size = 32\n",
    "\n",
    "\"\"\"\n",
    "DON'T MODIFY ANYTHING IN THIS CELL THAT IS BELOW THIS LINE\n",
    "\"\"\"\n",
    "# Call your function and get a dataloader\n",
    "celeba_train_loader = get_dataloader(batch_size, img_size)\n"
   ]
  },
  {
   "cell_type": "markdown",
   "metadata": {},
   "source": [
    "Next, you can view some images! You should seen square images of somewhat-centered faces.\n",
    "\n",
    "Note: You'll need to convert the Tensor images into a NumPy type and transpose the dimensions to correctly display an image, suggested `imshow` code is below, but it may not be perfect."
   ]
  },
  {
   "cell_type": "code",
   "execution_count": 6,
   "metadata": {},
   "outputs": [
    {
     "data": {
      "image/png": "[encoded data removed]",
      "text/plain": [
       "<Figure size 1440x288 with 20 Axes>"
      ]
     },
     "metadata": {},
     "output_type": "display_data"
    }
   ],
   "source": [
    "# helper display function\n",
    "def imshow(img):\n",
    "    #convert tensor to numpy array and scale pixel values to RGB uint8\n",
    "    npimg = img.numpy()*255\n",
    "    npimg = npimg.astype(np.uint8)\n",
    "\n",
    "    #permute matrix\n",
    "    plt.imshow(np.transpose(npimg, (1, 2, 0)))\n",
    "    \n",
    "    \n",
    "\"\"\"\n",
    "DON'T MODIFY ANYTHING IN THIS CELL THAT IS BELOW THIS LINE\n",
    "\"\"\"\n",
    "# obtain one batch of training images\n",
    "dataiter = iter(celeba_train_loader)\n",
    "images, _ = dataiter.next() # _ for no labels\n",
    "\n",
    "# plot the images in the batch, along with the corresponding labels\n",
    "fig = plt.figure(figsize=(20, 4))\n",
    "plot_size=20\n",
    "for idx in np.arange(plot_size):\n",
    "    ax = fig.add_subplot(2, plot_size/2, idx+1, xticks=[], yticks=[])\n",
    "    imshow(images[idx])"
   ]
  },
  {
   "cell_type": "markdown",
   "metadata": {},
   "source": [
    "#### Exercise: Pre-process your image data and scale it to a pixel range of -1 to 1\n",
    "\n",
    "You need to do a bit of pre-processing; you know that the output of a `tanh` activated generator will contain pixel values in a range from -1 to 1, and so, we need to rescale our training images to a range of -1 to 1. (Right now, they are in a range from 0-1.)"
   ]
  },
  {
   "cell_type": "code",
   "execution_count": 7,
   "metadata": {},
   "outputs": [],
   "source": [
    "# TODO: Complete the scale function\n",
    "def scale(x, feature_range=(-1, 1)):\n",
    "    ''' Scale takes in an image x and returns that image, scaled\n",
    "       with a feature_range of pixel values from -1 to 1. \n",
    "       This function assumes that the input x is already scaled from 0-1.'''\n",
    "    # assume x is scaled to (0, 1)\n",
    "    # scale to feature_range and return scaled x\n",
    "    \n",
    "    min, max = feature_range\n",
    "    x = x * (max - min) + min\n",
    "    return x\n"
   ]
  },
  {
   "cell_type": "code",
   "execution_count": 8,
   "metadata": {},
   "outputs": [
    {
     "name": "stdout",
     "output_type": "stream",
     "text": [
      "Min:  tensor(-0.8588)\n",
      "Max:  tensor(0.9843)\n"
     ]
    }
   ],
   "source": [
    "\"\"\"\n",
    "DON'T MODIFY ANYTHING IN THIS CELL THAT IS BELOW THIS LINE\n",
    "\"\"\"\n",
    "# check scaled range\n",
    "# should be close to -1 to 1\n",
    "img = images[0]\n",
    "scaled_img = scale(img)\n",
    "\n",
    "print('Min: ', scaled_img.min())\n",
    "print('Max: ', scaled_img.max())"
   ]
  },
  {
   "cell_type": "markdown",
   "metadata": {},
   "source": [
    "---\n",
    "# Define the Model\n",
    "\n",
    "A GAN is comprised of two adversarial networks, a discriminator and a generator.\n",
    "\n",
    "## Discriminator\n",
    "\n",
    "Your first task will be to define the discriminator. This is a convolutional classifier like you've built before, only without any maxpooling layers. To deal with this complex data, it's suggested you use a deep network with **normalization**. You are also allowed to create any helper functions that may be useful.\n",
    "\n",
    "#### Exercise: Complete the Discriminator class\n",
    "* The inputs to the discriminator are 32x32x3 tensor images\n",
    "* The output should be a single value that will indicate whether a given image is real or fake\n"
   ]
  },
  {
   "cell_type": "code",
   "execution_count": 9,
   "metadata": {},
   "outputs": [],
   "source": [
    "import torch.nn as nn\n",
    "import torch.nn.functional as F\n",
    "\n",
    "# helper conv function\n",
    "def conv(in_channels, out_channels, kernel_size, stride=2, padding=1, batch_norm=True):\n",
    "    \"\"\"Creates a convolutional layer, with optional batch normalization.\n",
    "    \"\"\"\n",
    "    layers = []\n",
    "    conv_layer = nn.Conv2d(in_channels, out_channels, \n",
    "                           kernel_size, stride, padding, bias=False)\n",
    "    \n",
    "    # append conv layer\n",
    "    layers.append(conv_layer)\n",
    "\n",
    "    if batch_norm:\n",
    "        # append batchnorm layer\n",
    "        layers.append(nn.BatchNorm2d(out_channels))\n",
    "     \n",
    "    # using Sequential container\n",
    "    return nn.Sequential(*layers)"
   ]
  },
  {
   "cell_type": "code",
   "execution_count": 10,
   "metadata": {},
   "outputs": [
    {
     "name": "stdout",
     "output_type": "stream",
     "text": [
      "Tests Passed\n"
     ]
    }
   ],
   "source": [
    "class Discriminator(nn.Module):\n",
    "\n",
    "    def __init__(self, conv_dim=32):\n",
    "        super(Discriminator, self).__init__()\n",
    "\n",
    "        # complete init function\n",
    "        self.conv_dim = conv_dim\n",
    "\n",
    "        # 32x32 input\n",
    "        self.conv1 = conv(3, conv_dim, 4, batch_norm=False) # first layer, no batch_norm\n",
    "        # 16x16 out\n",
    "        self.conv2 = conv(conv_dim, conv_dim*2, 4)\n",
    "        # 8x8 out\n",
    "        self.conv3 = conv(conv_dim*2, conv_dim*4, 4)\n",
    "        # 4x4 out\n",
    "        \n",
    "        # final, fully-connected layer\n",
    "        self.fc = nn.Linear(conv_dim*4*4*4, 1)\n",
    "\n",
    "    def forward(self, x):\n",
    "        # all hidden layers + leaky relu activation\n",
    "        out = F.leaky_relu(self.conv1(x), 0.2)\n",
    "        out = F.leaky_relu(self.conv2(out), 0.2)\n",
    "        out = F.leaky_relu(self.conv3(out), 0.2)\n",
    "        \n",
    "        # flatten\n",
    "        out = out.view(-1, self.conv_dim*4*4*4)\n",
    "        \n",
    "        # final output layer\n",
    "        out = self.fc(out)        \n",
    "        return out\n",
    "\n",
    "\n",
    "\"\"\"\n",
    "DON'T MODIFY ANYTHING IN THIS CELL THAT IS BELOW THIS LINE\n",
    "\"\"\"\n",
    "tests.test_discriminator(Discriminator)"
   ]
  },
  {
   "cell_type": "markdown",
   "metadata": {},
   "source": [
    "## Generator\n",
    "\n",
    "The generator should upsample an input and generate a *new* image of the same size as our training data `32x32x3`. This should be mostly transpose convolutional layers with normalization applied to the outputs.\n",
    "\n",
    "#### Exercise: Complete the Generator class\n",
    "* The inputs to the generator are vectors of some length `z_size`\n",
    "* The output should be a image of shape `32x32x3`"
   ]
  },
  {
   "cell_type": "code",
   "execution_count": 11,
   "metadata": {},
   "outputs": [],
   "source": [
    "# helper deconv function\n",
    "def deconv(in_channels, out_channels, kernel_size, stride=2, padding=1, batch_norm=True):\n",
    "    \"\"\"Creates a transposed-convolutional layer, with optional batch normalization.\n",
    "    \"\"\"\n",
    "    # create a sequence of transpose + optional batch norm layers\n",
    "    layers = []\n",
    "    transpose_conv_layer = nn.ConvTranspose2d(in_channels, out_channels, \n",
    "                                              kernel_size, stride, padding, bias=False)\n",
    "    # append transpose convolutional layer\n",
    "    layers.append(transpose_conv_layer)\n",
    "    \n",
    "    if batch_norm:\n",
    "        # append batchnorm layer\n",
    "        layers.append(nn.BatchNorm2d(out_channels))\n",
    "        \n",
    "    return nn.Sequential(*layers)"
   ]
  },
  {
   "cell_type": "code",
   "execution_count": 12,
   "metadata": {},
   "outputs": [
    {
     "name": "stdout",
     "output_type": "stream",
     "text": [
      "Tests Passed\n"
     ]
    }
   ],
   "source": [
    "class Generator(nn.Module):\n",
    "    \n",
    "    def __init__(self, z_size, conv_dim=32):\n",
    "        super(Generator, self).__init__()\n",
    "\n",
    "        # complete init function\n",
    "        \n",
    "        self.conv_dim = conv_dim\n",
    "        \n",
    "        # first, fully-connected layer\n",
    "        self.fc = nn.Linear(z_size, conv_dim*4*4*4)\n",
    "\n",
    "        # transpose conv layers\n",
    "        self.t_conv1 = deconv(conv_dim*4, conv_dim*2, 4)\n",
    "        self.t_conv2 = deconv(conv_dim*2, conv_dim, 4)\n",
    "        self.t_conv3 = deconv(conv_dim, 3, 4, batch_norm=False)\n",
    "        \n",
    "\n",
    "    def forward(self, x):\n",
    "        # fully-connected + reshape \n",
    "        out = self.fc(x)\n",
    "        out = out.view(-1, self.conv_dim*4, 4, 4) # (batch_size, depth, 4, 4)\n",
    "        \n",
    "        # hidden transpose conv layers + relu\n",
    "        out = F.relu(self.t_conv1(out))\n",
    "        out = F.relu(self.t_conv2(out))\n",
    "        \n",
    "        # last layer + tanh activation\n",
    "        out = self.t_conv3(out)\n",
    "        #out = F.tanh(out) # yields  warning\n",
    "        out = torch.tanh(out)\n",
    "        return out\n",
    "    \n",
    "\n",
    "\"\"\"\n",
    "DON'T MODIFY ANYTHING IN THIS CELL THAT IS BELOW THIS LINE\n",
    "\"\"\"\n",
    "tests.test_generator(Generator)"
   ]
  },
  {
   "cell_type": "markdown",
   "metadata": {},
   "source": [
    "## Initialize the weights of your networks\n",
    "\n",
    "To help your models converge, you should initialize the weights of the convolutional and linear layers in your model. From reading the [original DCGAN paper](https://arxiv.org/pdf/1511.06434.pdf), they say:\n",
    "> All weights were initialized from a zero-centered Normal distribution with standard deviation 0.02.\n",
    "\n",
    "So, your next task will be to define a weight initialization function that does just this!\n",
    "\n",
    "You can refer back to the lesson on weight initialization or even consult existing model code, such as that from [the `networks.py` file in CycleGAN Github repository](https://github.com/junyanz/pytorch-CycleGAN-and-pix2pix/blob/master/models/networks.py) to help you complete this function.\n",
    "\n",
    "#### Exercise: Complete the weight initialization function\n",
    "\n",
    "* This should initialize only **convolutional** and **linear** layers\n",
    "* Initialize the weights to a normal distribution, centered around 0, with a standard deviation of 0.02.\n",
    "* The bias terms, if they exist, may be left alone or set to 0."
   ]
  },
  {
   "cell_type": "code",
   "execution_count": 13,
   "metadata": {},
   "outputs": [],
   "source": [
    "#Weight initialization see\n",
    "#https://stackoverflow.com/questions/49433936/how-to-initialize-weights-in-pytorch\n",
    "\n",
    "import torch.nn.init as init\n",
    "def weights_init_normal(m):\n",
    "    \"\"\"\n",
    "    Applies initial weights to certain layers in a model .\n",
    "    The weights are taken from a normal distribution \n",
    "    with mean = 0, std dev = 0.02.\n",
    "    :param m: A module or layer in a network    \n",
    "    \"\"\"\n",
    "    mean = 0\n",
    "    std = 0.02\n",
    "\n",
    "    if isinstance(m, nn.Conv2d):\n",
    "        init.normal_(m.weight.data, mean, std)\n",
    "        if m.bias is not None:\n",
    "            init.normal_(m.bias.data, 0)\n",
    "    elif isinstance(m, nn.ConvTranspose2d):\n",
    "        init.normal_(m.weight.data, mean, std)\n",
    "        if m.bias is not None:\n",
    "            init.normal_(m.bias.data, 0)\n",
    "    elif isinstance(m, nn.BatchNorm2d):\n",
    "        init.normal_(m.weight.data, mean, std)\n",
    "        init.constant_(m.bias.data, 0)\n",
    "    elif isinstance(m, nn.Linear):\n",
    "        init.normal_(m.weight.data, mean, std)\n",
    "        init.normal_(m.bias.data, 0)"
   ]
  },
  {
   "cell_type": "code",
   "execution_count": 14,
   "metadata": {},
   "outputs": [],
   "source": [
    "def weights_init_kaiming(m):\n",
    "    for m in m.modules():\n",
    "        if isinstance(m, (nn.Conv2d,nn.ConvTranspose2d)):\n",
    "            #print(m.weight)\n",
    "            nn.init.kaiming_normal_(m.weight.data, mode='fan_out', nonlinearity='relu')\n",
    "        elif isinstance(m, (nn.BatchNorm2d, nn.GroupNorm)):\n",
    "            nn.init.normal_(m.weight.data, mean=1, std=0.02)\n",
    "            nn.init.constant_(m.bias.data, 0)\n",
    "        elif isinstance(m, nn.Linear):\n",
    "            nn.init.kaiming_normal_(m.weight.data, mode='fan_out', nonlinearity='relu')\n"
   ]
  },
  {
   "cell_type": "markdown",
   "metadata": {
    "collapsed": true
   },
   "source": [
    "## Build complete network\n",
    "\n",
    "Define your models' hyperparameters and instantiate the discriminator and generator from the classes defined above. Make sure you've passed in the correct input arguments."
   ]
  },
  {
   "cell_type": "code",
   "execution_count": 15,
   "metadata": {},
   "outputs": [],
   "source": [
    "\"\"\"\n",
    "DON'T MODIFY ANYTHING IN THIS CELL THAT IS BELOW THIS LINE\n",
    "\"\"\"\n",
    "def build_network(d_conv_dim, g_conv_dim, z_size):\n",
    "    # define discriminator and generator\n",
    "    D = Discriminator(d_conv_dim)\n",
    "    G = Generator(z_size=z_size, conv_dim=g_conv_dim)\n",
    "\n",
    "    # initialize model weights\n",
    "    D.apply(weights_init_normal)\n",
    "    G.apply(weights_init_normal)\n",
    "\n",
    "    print(D)\n",
    "    print()\n",
    "    print(G)\n",
    "    \n",
    "    return D, G\n"
   ]
  },
  {
   "cell_type": "markdown",
   "metadata": {},
   "source": [
    "#### Exercise: Define model hyperparameters"
   ]
  },
  {
   "cell_type": "code",
   "execution_count": 16,
   "metadata": {},
   "outputs": [
    {
     "name": "stdout",
     "output_type": "stream",
     "text": [
      "Discriminator(\n",
      "  (conv1): Sequential(\n",
      "    (0): Conv2d(3, 128, kernel_size=(4, 4), stride=(2, 2), padding=(1, 1), bias=False)\n",
      "  )\n",
      "  (conv2): Sequential(\n",
      "    (0): Conv2d(128, 256, kernel_size=(4, 4), stride=(2, 2), padding=(1, 1), bias=False)\n",
      "    (1): BatchNorm2d(256, eps=1e-05, momentum=0.1, affine=True, track_running_stats=True)\n",
      "  )\n",
      "  (conv3): Sequential(\n",
      "    (0): Conv2d(256, 512, kernel_size=(4, 4), stride=(2, 2), padding=(1, 1), bias=False)\n",
      "    (1): BatchNorm2d(512, eps=1e-05, momentum=0.1, affine=True, track_running_stats=True)\n",
      "  )\n",
      "  (fc): Linear(in_features=8192, out_features=1, bias=True)\n",
      ")\n",
      "\n",
      "Generator(\n",
      "  (fc): Linear(in_features=100, out_features=8192, bias=True)\n",
      "  (t_conv1): Sequential(\n",
      "    (0): ConvTranspose2d(512, 256, kernel_size=(4, 4), stride=(2, 2), padding=(1, 1), bias=False)\n",
      "    (1): BatchNorm2d(256, eps=1e-05, momentum=0.1, affine=True, track_running_stats=True)\n",
      "  )\n",
      "  (t_conv2): Sequential(\n",
      "    (0): ConvTranspose2d(256, 128, kernel_size=(4, 4), stride=(2, 2), padding=(1, 1), bias=False)\n",
      "    (1): BatchNorm2d(128, eps=1e-05, momentum=0.1, affine=True, track_running_stats=True)\n",
      "  )\n",
      "  (t_conv3): Sequential(\n",
      "    (0): ConvTranspose2d(128, 3, kernel_size=(4, 4), stride=(2, 2), padding=(1, 1), bias=False)\n",
      "  )\n",
      ")\n"
     ]
    }
   ],
   "source": [
    "# Define model hyperparams\n",
    "d_conv_dim = 128\n",
    "g_conv_dim = 128\n",
    "z_size = 100\n",
    "\n",
    "\"\"\"\n",
    "DON'T MODIFY ANYTHING IN THIS CELL THAT IS BELOW THIS LINE\n",
    "\"\"\"\n",
    "D, G = build_network(d_conv_dim, g_conv_dim, z_size)"
   ]
  },
  {
   "cell_type": "markdown",
   "metadata": {},
   "source": [
    "### Training on GPU\n",
    "\n",
    "Check if you can train on GPU. Here, we'll set this as a boolean variable `train_on_gpu`. Later, you'll be responsible for making sure that \n",
    ">* Models,\n",
    "* Model inputs, and\n",
    "* Loss function arguments\n",
    "\n",
    "Are moved to GPU, where appropriate."
   ]
  },
  {
   "cell_type": "code",
   "execution_count": 17,
   "metadata": {},
   "outputs": [
    {
     "name": "stdout",
     "output_type": "stream",
     "text": [
      "Training on GPU!\n"
     ]
    }
   ],
   "source": [
    "\"\"\"\n",
    "DON'T MODIFY ANYTHING IN THIS CELL\n",
    "\"\"\"\n",
    "import torch\n",
    "\n",
    "# Check for a GPU\n",
    "train_on_gpu = torch.cuda.is_available()\n",
    "if not train_on_gpu:\n",
    "    print('No GPU found. Please use a GPU to train your neural network.')\n",
    "else:\n",
    "    print('Training on GPU!')"
   ]
  },
  {
   "cell_type": "markdown",
   "metadata": {},
   "source": [
    "---\n",
    "## Discriminator and Generator Losses\n",
    "\n",
    "Now we need to calculate the losses for both types of adversarial networks.\n",
    "\n",
    "### Discriminator Losses\n",
    "\n",
    "> * For the discriminator, the total loss is the sum of the losses for real and fake images, `d_loss = d_real_loss + d_fake_loss`. \n",
    "* Remember that we want the discriminator to output 1 for real images and 0 for fake images, so we need to set up the losses to reflect that.\n",
    "\n",
    "\n",
    "### Generator Loss\n",
    "\n",
    "The generator loss will look similar only with flipped labels. The generator's goal is to get the discriminator to *think* its generated images are *real*.\n",
    "\n",
    "#### Exercise: Complete real and fake loss functions\n",
    "\n",
    "**You may choose to use either cross entropy or a least squares error loss to complete the following `real_loss` and `fake_loss` functions.**"
   ]
  },
  {
   "cell_type": "code",
   "execution_count": 18,
   "metadata": {},
   "outputs": [],
   "source": [
    "def real_loss(D_out, smooth=True):\n",
    "    '''Calculates how close discriminator outputs are to being real.\n",
    "       param, D_out: discriminator logits\n",
    "       return: real loss'''\n",
    "    batch_size = D_out.size(0)\n",
    "    # label smoothing\n",
    "    if smooth:\n",
    "        # smooth, real labels = 0.9\n",
    "        labels = torch.ones(batch_size)*0.9\n",
    "    else:\n",
    "        labels = torch.ones(batch_size) # real labels = 1\n",
    "    # move labels to GPU if available     \n",
    "    if train_on_gpu:\n",
    "        labels = labels.cuda()\n",
    "    # binary cross entropy with logits loss\n",
    "    criterion = nn.BCEWithLogitsLoss()\n",
    "    \n",
    "    #todo try with MSEloss()\n",
    "    #criterion = nn.MSELoss()\n",
    "    \n",
    "    # calculate loss\n",
    "    loss = criterion(D_out.squeeze(), labels)\n",
    "    return loss\n",
    "\n",
    "def fake_loss(D_out):\n",
    "    '''Calculates how close discriminator outputs are to being fake.\n",
    "       param, D_out: discriminator logits\n",
    "       return: fake loss'''\n",
    "    batch_size = D_out.size(0)\n",
    "    labels = torch.zeros(batch_size) # fake labels = 0\n",
    "    if train_on_gpu:\n",
    "        labels = labels.cuda()\n",
    "    criterion = nn.BCEWithLogitsLoss()\n",
    "    # calculate loss\n",
    "    loss = criterion(D_out.squeeze(), labels)\n",
    "    return loss"
   ]
  },
  {
   "cell_type": "markdown",
   "metadata": {},
   "source": [
    "## Optimizers\n",
    "\n",
    "#### Exercise: Define optimizers for your Discriminator (D) and Generator (G)\n",
    "\n",
    "Define optimizers for your models with appropriate hyperparameters."
   ]
  },
  {
   "cell_type": "code",
   "execution_count": 19,
   "metadata": {},
   "outputs": [],
   "source": [
    "import torch.optim as optim\n",
    "\n",
    "# params\n",
    "# https://machinelearningmastery.com/adam-optimization-algorithm-for-deep-learning/\n",
    "lr_g = 0.0002 # learning rate generator\n",
    "lr_d = 0.1 * lr_g\n",
    "\n",
    "beta1=0.5\n",
    "beta2=0.999"
   ]
  },
  {
   "cell_type": "code",
   "execution_count": 20,
   "metadata": {},
   "outputs": [],
   "source": [
    "# Create optimizers for the discriminator D and generator G\n",
    "d_optimizer = optim.Adam(D.parameters(), lr_d , [beta1, beta2])\n",
    "g_optimizer = optim.Adam(G.parameters(), lr_g , [beta1, beta2])"
   ]
  },
  {
   "cell_type": "code",
   "execution_count": 21,
   "metadata": {},
   "outputs": [],
   "source": [
    "# Implementing adaptive learning rates\n",
    "\n",
    "import torch.optim as optim\n",
    "\n",
    "#>>> # Assuming optimizer uses lr = 0.5 for all groups\n",
    "#>>> # lr = 0.05     if epoch < 30\n",
    "#>>> # lr = 0.005    if 30 <= epoch < 60\n",
    "#>>> # lr = 0.0005   if 60 <= epoch < 90\n",
    "#>>> # ...\n",
    "#>>> scheduler = StepLR(optimizer, step_size=30, gamma=0.1)\n",
    "# the initial lr decayed by gamma every step_size epochs\n",
    "#>>> for epoch in range(100):\n",
    "#>>>     train(...)\n",
    "#>>>     validate(...)\n",
    "#>>>     scheduler.step()\n",
    "\n",
    "lr_scheduler_d = optim.lr_scheduler.StepLR(d_optimizer, step_size=20, gamma=0.9)\n",
    "lr_scheduler_g = optim.lr_scheduler.StepLR(g_optimizer, step_size=20, gamma=0.9)"
   ]
  },
  {
   "cell_type": "code",
   "execution_count": 22,
   "metadata": {},
   "outputs": [
    {
     "name": "stdout",
     "output_type": "stream",
     "text": [
      "Epoch 0, lr 2e-05\n",
      "Epoch 0, lr 0.0002\n"
     ]
    }
   ],
   "source": [
    "#for testing only\n",
    "print('Epoch {}, lr {}'.format(0, d_optimizer.param_groups[0]['lr']))\n",
    "print('Epoch {}, lr {}'.format(0, g_optimizer.param_groups[0]['lr']))"
   ]
  },
  {
   "cell_type": "code",
   "execution_count": 23,
   "metadata": {},
   "outputs": [],
   "source": [
    "#for epoch in range(1, 25):\n",
    "#    lr_scheduler_g.step()\n",
    "#    print('Epoch {}, lr {}'.format(\n",
    "#        epoch, g_optimizer.param_groups[0]['lr']))"
   ]
  },
  {
   "cell_type": "markdown",
   "metadata": {},
   "source": [
    "---\n",
    "## Training\n",
    "\n",
    "Training will involve alternating between training the discriminator and the generator. You'll use your functions `real_loss` and `fake_loss` to help you calculate the discriminator losses.\n",
    "\n",
    "* You should train the discriminator by alternating on real and fake images\n",
    "* Then the generator, which tries to trick the discriminator and should have an opposing loss function\n",
    "\n",
    "\n",
    "#### Saving Samples\n",
    "\n",
    "You've been given some code to print out some loss statistics and save some generated \"fake\" samples."
   ]
  },
  {
   "cell_type": "markdown",
   "metadata": {},
   "source": [
    "#### Exercise: Complete the training function\n",
    "\n",
    "Keep in mind that, if you've moved your models to GPU, you'll also have to move any model inputs to GPU."
   ]
  },
  {
   "cell_type": "code",
   "execution_count": 24,
   "metadata": {},
   "outputs": [],
   "source": [
    "import time"
   ]
  },
  {
   "cell_type": "code",
   "execution_count": 25,
   "metadata": {},
   "outputs": [
    {
     "name": "stdout",
     "output_type": "stream",
     "text": [
      "Initializing training!\n"
     ]
    }
   ],
   "source": [
    "RESTART = True\n",
    "if RESTART == True:\n",
    "    print('Initializing training!')\n",
    "    #Arrays for plotting training performance\n",
    "    #Avoid re-initialization if training is resumed with again N_EPOCHS!\n",
    "    #train_loss_history = []\n",
    "    #valid_loss_history #= []\n",
    "    #valid_loss_min = np.Inf \n",
    "else:\n",
    "    print('Resuming training!')\n",
    "    model_transfer.load_state_dict(torch.load('gan-model-D.pt'))\n",
    "    model_transfer.load_state_dict(torch.load('gan-model-G.pt'))\n",
    "    #valid_loss_min = loadvalidlossmin('transfer_lossmin.p')"
   ]
  },
  {
   "cell_type": "code",
   "execution_count": 26,
   "metadata": {},
   "outputs": [],
   "source": [
    "sample_size=16\n",
    "fixed_z = np.random.uniform(-1, 1, size=(sample_size, z_size))\n",
    "fixed_z = torch.from_numpy(fixed_z).float()\n",
    "# move z to GPU if available\n",
    "if train_on_gpu:\n",
    "    fixed_z = fixed_z.cuda()\n",
    "\n",
    "          \n",
    "\n",
    "def train(D, G, n_epochs, modelfile_g, modelfile_d, print_every=8*50):\n",
    "    '''Trains adversarial networks for some number of epochs\n",
    "       param, D: the discriminator network\n",
    "       param, G: the generator network\n",
    "       param, n_epochs: number of epochs to train for\n",
    "       param, print_every: when to print and record the models' losses\n",
    "       return: D and G losses'''\n",
    "    \n",
    "    # move models to GPU\n",
    "    if train_on_gpu:\n",
    "        D.cuda()\n",
    "        G.cuda()\n",
    "\n",
    "    # keep track of loss and generated, \"fake\" samples\n",
    "    samples = []\n",
    "    losses = []\n",
    "\n",
    "    print('Initial learning rates: lr_d = {} and lr_g = {}'.format(d_optimizer.param_groups[0]['lr'], g_optimizer.param_groups[0]['lr']))\n",
    "    \n",
    "    # Get some fixed data for sampling. These are images that are held\n",
    "    # constant throughout training, and allow us to inspect the model's performance\n",
    "\n",
    "    #we want to measure the time for overall training\n",
    "    start_training = time.time()\n",
    "    # epoch training loop\n",
    "    for epoch in range(n_epochs):\n",
    "\n",
    "        #we want to measure the time for one epoch\n",
    "        start_epoch = time.time()\n",
    "        \n",
    "        # batch training loop\n",
    "        for batch_i, (real_images, _) in enumerate(celeba_train_loader):\n",
    "\n",
    "            batch_size = real_images.size(0)\n",
    "            real_images = scale(real_images)\n",
    "\n",
    "            # ===============================================\n",
    "            #         YOUR CODE HERE: TRAIN THE NETWORKS\n",
    "            # ===============================================\n",
    "            d_optimizer.zero_grad()\n",
    "\n",
    "            # 1. Train with real images\n",
    "\n",
    "            # Compute the discriminator losses on real images \n",
    "            if train_on_gpu:\n",
    "                real_images = real_images.cuda()\n",
    "\n",
    "            D_real = D(real_images)\n",
    "            d_real_loss = real_loss(D_real)\n",
    "\n",
    "            # 2. Train with fake images\n",
    "\n",
    "            # Generate fake images\n",
    "            z = np.random.uniform(-1, 1, size=(batch_size, z_size))\n",
    "            z = torch.from_numpy(z).float()\n",
    "            # move x to GPU, if available\n",
    "            if train_on_gpu:\n",
    "                z = z.cuda()\n",
    "            fake_images = G(z).detach()\n",
    "\n",
    "            # Compute the discriminator losses on fake images            \n",
    "            D_fake = D(fake_images)\n",
    "            d_fake_loss = fake_loss(D_fake)\n",
    "\n",
    "            # add up loss and perform backprop\n",
    "            d_loss = d_real_loss + d_fake_loss\n",
    "            d_loss.backward()\n",
    "            d_optimizer.step() \n",
    "\n",
    "            # 2. Train the generator with an adversarial loss\n",
    "            g_optimizer.zero_grad()\n",
    "\n",
    "            # 1. Train with fake images and flipped labels\n",
    "\n",
    "            # Generate fake images\n",
    "            z = np.random.uniform(-1, 1, size=(batch_size, z_size))\n",
    "            z = torch.from_numpy(z).float()\n",
    "            if train_on_gpu:\n",
    "                z = z.cuda()\n",
    "            fake_images = G(z)\n",
    "\n",
    "            # Compute the discriminator losses on fake images \n",
    "            # using flipped labels!\n",
    "            D_fake = D(fake_images)\n",
    "            g_loss = real_loss(D_fake) # use real loss to flip labels\n",
    "\n",
    "            # perform backprop\n",
    "            g_loss.backward()\n",
    "            g_optimizer.step()\n",
    "\n",
    "            # ===============================================\n",
    "            #              END OF YOUR CODE\n",
    "            # ===============================================\n",
    "\n",
    "            # Print some loss stats\n",
    "            if batch_i % print_every == 0:\n",
    "                # append discriminator loss and generator loss\n",
    "                losses.append((d_loss.item(), g_loss.item()))\n",
    "                # print discriminator and generator loss\n",
    "                print('Epoch [{:5d}/{:5d}] | d_loss: {:6.4f} | g_loss: {:6.4f}'.format(\n",
    "                        epoch+1, n_epochs, d_loss.item(), g_loss.item()))      \n",
    "        \n",
    "\n",
    "      \n",
    "        # adaptive learning rate\n",
    "        lr_scheduler_d.step()         \n",
    "        lr_scheduler_g.step()           \n",
    "        print('Adjusted learning rates: lr_d = {} and lr_g = {}'.format(d_optimizer.param_groups[0]['lr'], g_optimizer.param_groups[0]['lr']))\n",
    "\n",
    "        ## AFTER EACH EPOCH##    \n",
    "        # this code assumes your generator is named G, feel free to change the name\n",
    "        # generate and save sample, fake images\n",
    "        G.eval() # for generating samples\n",
    "        samples_z = G(fixed_z)\n",
    "        samples.append(samples_z)\n",
    "        G.train() # back to training mode\n",
    "        \n",
    "        \n",
    "        end_epoch = time.time()\n",
    "        hours_epoch, rem_epoch = divmod(end_epoch-start_epoch, 3600)\n",
    "        minutes_epoch, seconds_epoch = divmod(rem_epoch, 60)\n",
    "        print(\"Epoch training time: {:0>2}:{:0>2}:{:05.2f}\".format(int(hours_epoch),int(minutes_epoch),seconds_epoch))\n",
    "        #time.strftime(\"%H:%M:%S\", time.gmtime(n)) \n",
    "\n",
    "\n",
    "    end_training = time.time()\n",
    "    hours_training, rem_training = divmod(end_training-start_training, 3600)\n",
    "    minutes_training, seconds_training = divmod(rem_training, 60)\n",
    "    print(\"Total training time: {:0>2}:{:0>2}:{:05.2f}\".format(int(hours_training),int(minutes_training),seconds_training))\n",
    "\n",
    "    # Save training generator samples\n",
    "    with open('train_samples.pkl', 'wb') as f:\n",
    "        pkl.dump(samples, f)\n",
    "    print('Training samples saved.')\n",
    "    \n",
    "    #Save models\n",
    "    torch.save(D.state_dict(), modelfile_d)\n",
    "    torch.save(G.state_dict(), modelfile_g)\n",
    "    print('final models saved in ', modelfile_g,' and ', modelfile_d)\n",
    "    # finally return losses\n",
    "    return losses"
   ]
  },
  {
   "cell_type": "markdown",
   "metadata": {},
   "source": [
    "Set your number of training epochs and train your GAN!"
   ]
  },
  {
   "cell_type": "code",
   "execution_count": null,
   "metadata": {
    "scrolled": true
   },
   "outputs": [
    {
     "name": "stdout",
     "output_type": "stream",
     "text": [
      "Initial learning rates: lr_d = 2e-05 and lr_g = 0.0002\n",
      "Epoch [    1/  100] | d_loss: 1.8841 | g_loss: 0.3778\n",
      "Epoch [    1/  100] | d_loss: 1.4954 | g_loss: 0.5350\n",
      "Adjusted learning rates: lr_d = 2e-05 and lr_g = 0.0002\n",
      "Epoch training time: 00:00:42.18\n",
      "Epoch [    2/  100] | d_loss: 1.3970 | g_loss: 0.7465\n",
      "Epoch [    2/  100] | d_loss: 1.3206 | g_loss: 0.8246\n",
      "Adjusted learning rates: lr_d = 2e-05 and lr_g = 0.0002\n",
      "Epoch training time: 00:00:42.69\n",
      "Epoch [    3/  100] | d_loss: 1.3862 | g_loss: 0.7842\n",
      "Epoch [    3/  100] | d_loss: 1.3702 | g_loss: 0.7901\n",
      "Adjusted learning rates: lr_d = 2e-05 and lr_g = 0.0002\n",
      "Epoch training time: 00:00:43.85\n",
      "Epoch [    4/  100] | d_loss: 1.3677 | g_loss: 0.7970\n",
      "Epoch [    4/  100] | d_loss: 1.3577 | g_loss: 0.8049\n",
      "Adjusted learning rates: lr_d = 2e-05 and lr_g = 0.0002\n",
      "Epoch training time: 00:00:45.08\n",
      "Epoch [    5/  100] | d_loss: 1.3762 | g_loss: 0.7883\n",
      "Epoch [    5/  100] | d_loss: 1.3792 | g_loss: 0.7705\n",
      "Adjusted learning rates: lr_d = 2e-05 and lr_g = 0.0002\n",
      "Epoch training time: 00:00:45.90\n",
      "Epoch [    6/  100] | d_loss: 1.3697 | g_loss: 0.7804\n",
      "Epoch [    6/  100] | d_loss: 1.3763 | g_loss: 0.7731\n",
      "Adjusted learning rates: lr_d = 2e-05 and lr_g = 0.0002\n",
      "Epoch training time: 00:00:44.64\n",
      "Epoch [    7/  100] | d_loss: 1.3790 | g_loss: 0.7804\n",
      "Epoch [    7/  100] | d_loss: 1.3766 | g_loss: 0.7829\n",
      "Adjusted learning rates: lr_d = 2e-05 and lr_g = 0.0002\n",
      "Epoch training time: 00:00:44.42\n",
      "Epoch [    8/  100] | d_loss: 1.3750 | g_loss: 0.7801\n",
      "Epoch [    8/  100] | d_loss: 1.3796 | g_loss: 0.7782\n",
      "Adjusted learning rates: lr_d = 2e-05 and lr_g = 0.0002\n",
      "Epoch training time: 00:00:44.67\n",
      "Epoch [    9/  100] | d_loss: 1.3755 | g_loss: 0.7794\n",
      "Epoch [    9/  100] | d_loss: 1.3747 | g_loss: 0.7816\n",
      "Adjusted learning rates: lr_d = 2e-05 and lr_g = 0.0002\n",
      "Epoch training time: 00:00:44.68\n",
      "Epoch [   10/  100] | d_loss: 1.3773 | g_loss: 0.7793\n",
      "Epoch [   10/  100] | d_loss: 1.3737 | g_loss: 0.7767\n",
      "Adjusted learning rates: lr_d = 2e-05 and lr_g = 0.0002\n",
      "Epoch training time: 00:00:44.57\n",
      "Epoch [   11/  100] | d_loss: 1.3752 | g_loss: 0.7833\n",
      "Epoch [   11/  100] | d_loss: 1.3723 | g_loss: 0.7864\n",
      "Adjusted learning rates: lr_d = 2e-05 and lr_g = 0.0002\n",
      "Epoch training time: 00:00:44.74\n",
      "Epoch [   12/  100] | d_loss: 1.3718 | g_loss: 0.7827\n",
      "Epoch [   12/  100] | d_loss: 1.3710 | g_loss: 0.7854\n",
      "Adjusted learning rates: lr_d = 2e-05 and lr_g = 0.0002\n",
      "Epoch training time: 00:00:44.83\n",
      "Epoch [   13/  100] | d_loss: 1.3734 | g_loss: 0.7939\n",
      "Epoch [   13/  100] | d_loss: 1.3782 | g_loss: 0.7888\n",
      "Adjusted learning rates: lr_d = 2e-05 and lr_g = 0.0002\n",
      "Epoch training time: 00:00:44.98\n",
      "Epoch [   14/  100] | d_loss: 1.3683 | g_loss: 0.7910\n",
      "Epoch [   14/  100] | d_loss: 1.3734 | g_loss: 0.7866\n",
      "Adjusted learning rates: lr_d = 2e-05 and lr_g = 0.0002\n",
      "Epoch training time: 00:00:44.77\n",
      "Epoch [   15/  100] | d_loss: 1.3742 | g_loss: 0.7789\n",
      "Epoch [   15/  100] | d_loss: 1.3617 | g_loss: 0.7828\n",
      "Adjusted learning rates: lr_d = 2e-05 and lr_g = 0.0002\n",
      "Epoch training time: 00:00:44.72\n",
      "Epoch [   16/  100] | d_loss: 1.3734 | g_loss: 0.7972\n",
      "Epoch [   16/  100] | d_loss: 1.3683 | g_loss: 0.7865\n",
      "Adjusted learning rates: lr_d = 2e-05 and lr_g = 0.0002\n",
      "Epoch training time: 00:00:44.51\n",
      "Epoch [   17/  100] | d_loss: 1.3659 | g_loss: 0.7953\n",
      "Epoch [   17/  100] | d_loss: 1.3649 | g_loss: 0.7983\n",
      "Adjusted learning rates: lr_d = 2e-05 and lr_g = 0.0002\n",
      "Epoch training time: 00:00:44.78\n",
      "Epoch [   18/  100] | d_loss: 1.3639 | g_loss: 0.7795\n",
      "Epoch [   18/  100] | d_loss: 1.3459 | g_loss: 0.7968\n",
      "Adjusted learning rates: lr_d = 2e-05 and lr_g = 0.0002\n",
      "Epoch training time: 00:00:44.68\n",
      "Epoch [   19/  100] | d_loss: 1.3516 | g_loss: 0.8095\n",
      "Epoch [   19/  100] | d_loss: 1.3560 | g_loss: 0.8035\n",
      "Adjusted learning rates: lr_d = 2e-05 and lr_g = 0.0002\n",
      "Epoch training time: 00:00:44.09\n",
      "Epoch [   20/  100] | d_loss: 1.3480 | g_loss: 0.8106\n",
      "Epoch [   20/  100] | d_loss: 1.3533 | g_loss: 0.7939\n",
      "Adjusted learning rates: lr_d = 1.8e-05 and lr_g = 0.00018\n",
      "Epoch training time: 00:00:45.57\n",
      "Epoch [   21/  100] | d_loss: 1.3502 | g_loss: 0.7875\n",
      "Epoch [   21/  100] | d_loss: 1.3503 | g_loss: 0.7937\n",
      "Adjusted learning rates: lr_d = 1.8e-05 and lr_g = 0.00018\n",
      "Epoch training time: 00:00:45.73\n",
      "Epoch [   22/  100] | d_loss: 1.3648 | g_loss: 0.8015\n",
      "Epoch [   22/  100] | d_loss: 1.3398 | g_loss: 0.7967\n",
      "Adjusted learning rates: lr_d = 1.8e-05 and lr_g = 0.00018\n",
      "Epoch training time: 00:00:48.41\n",
      "Epoch [   23/  100] | d_loss: 1.3572 | g_loss: 0.8013\n",
      "Epoch [   23/  100] | d_loss: 1.3532 | g_loss: 0.8122\n",
      "Adjusted learning rates: lr_d = 1.8e-05 and lr_g = 0.00018\n",
      "Epoch training time: 00:00:47.17\n",
      "Epoch [   24/  100] | d_loss: 1.3514 | g_loss: 0.8174\n",
      "Epoch [   24/  100] | d_loss: 1.3566 | g_loss: 0.8040\n",
      "Adjusted learning rates: lr_d = 1.8e-05 and lr_g = 0.00018\n",
      "Epoch training time: 00:00:45.90\n",
      "Epoch [   25/  100] | d_loss: 1.3470 | g_loss: 0.8196\n",
      "Epoch [   25/  100] | d_loss: 1.3459 | g_loss: 0.8160\n",
      "Adjusted learning rates: lr_d = 1.8e-05 and lr_g = 0.00018\n",
      "Epoch training time: 00:00:45.77\n",
      "Epoch [   26/  100] | d_loss: 1.3351 | g_loss: 0.7985\n",
      "Epoch [   26/  100] | d_loss: 1.3650 | g_loss: 0.8044\n",
      "Adjusted learning rates: lr_d = 1.8e-05 and lr_g = 0.00018\n",
      "Epoch training time: 00:00:45.60\n",
      "Epoch [   27/  100] | d_loss: 1.3524 | g_loss: 0.8061\n",
      "Epoch [   27/  100] | d_loss: 1.3597 | g_loss: 0.8139\n",
      "Adjusted learning rates: lr_d = 1.8e-05 and lr_g = 0.00018\n",
      "Epoch training time: 00:00:47.25\n",
      "Epoch [   28/  100] | d_loss: 1.3380 | g_loss: 0.8508\n",
      "Epoch [   28/  100] | d_loss: 1.3083 | g_loss: 0.8333\n",
      "Adjusted learning rates: lr_d = 1.8e-05 and lr_g = 0.00018\n",
      "Epoch training time: 00:00:49.01\n",
      "Epoch [   29/  100] | d_loss: 1.3557 | g_loss: 0.8245\n",
      "Epoch [   29/  100] | d_loss: 1.3175 | g_loss: 0.8259\n",
      "Adjusted learning rates: lr_d = 1.8e-05 and lr_g = 0.00018\n",
      "Epoch training time: 00:00:45.16\n",
      "Epoch [   30/  100] | d_loss: 1.3212 | g_loss: 0.7918\n",
      "Epoch [   30/  100] | d_loss: 1.3369 | g_loss: 0.8341\n",
      "Adjusted learning rates: lr_d = 1.8e-05 and lr_g = 0.00018\n",
      "Epoch training time: 00:00:45.15\n",
      "Epoch [   31/  100] | d_loss: 1.2857 | g_loss: 0.7933\n",
      "Epoch [   31/  100] | d_loss: 1.3375 | g_loss: 0.8390\n",
      "Adjusted learning rates: lr_d = 1.8e-05 and lr_g = 0.00018\n",
      "Epoch training time: 00:00:44.95\n",
      "Epoch [   32/  100] | d_loss: 1.3281 | g_loss: 0.8451\n",
      "Epoch [   32/  100] | d_loss: 1.2939 | g_loss: 0.8152\n",
      "Adjusted learning rates: lr_d = 1.8e-05 and lr_g = 0.00018\n",
      "Epoch training time: 00:00:44.99\n",
      "Epoch [   33/  100] | d_loss: 1.3077 | g_loss: 0.8515\n",
      "Epoch [   33/  100] | d_loss: 1.3198 | g_loss: 0.8329\n",
      "Adjusted learning rates: lr_d = 1.8e-05 and lr_g = 0.00018\n",
      "Epoch training time: 00:00:45.37\n",
      "Epoch [   34/  100] | d_loss: 1.2750 | g_loss: 0.8526\n",
      "Epoch [   34/  100] | d_loss: 1.3046 | g_loss: 0.8601\n",
      "Adjusted learning rates: lr_d = 1.8e-05 and lr_g = 0.00018\n",
      "Epoch training time: 00:00:44.99\n",
      "Epoch [   35/  100] | d_loss: 1.3046 | g_loss: 0.8205\n",
      "Epoch [   35/  100] | d_loss: 1.2586 | g_loss: 0.8544\n",
      "Adjusted learning rates: lr_d = 1.8e-05 and lr_g = 0.00018\n",
      "Epoch training time: 00:00:44.74\n",
      "Epoch [   36/  100] | d_loss: 1.3391 | g_loss: 0.8260\n",
      "Epoch [   36/  100] | d_loss: 1.2256 | g_loss: 0.8576\n",
      "Adjusted learning rates: lr_d = 1.8e-05 and lr_g = 0.00018\n",
      "Epoch training time: 00:00:45.08\n",
      "Epoch [   37/  100] | d_loss: 1.2589 | g_loss: 0.8922\n",
      "Epoch [   37/  100] | d_loss: 1.3258 | g_loss: 0.8775\n",
      "Adjusted learning rates: lr_d = 1.8e-05 and lr_g = 0.00018\n",
      "Epoch training time: 00:00:45.27\n",
      "Epoch [   38/  100] | d_loss: 1.2630 | g_loss: 0.8902\n",
      "Epoch [   38/  100] | d_loss: 1.2941 | g_loss: 0.8845\n",
      "Adjusted learning rates: lr_d = 1.8e-05 and lr_g = 0.00018\n",
      "Epoch training time: 00:00:44.93\n",
      "Epoch [   39/  100] | d_loss: 1.2537 | g_loss: 0.8489\n",
      "Epoch [   39/  100] | d_loss: 1.1690 | g_loss: 0.8965\n",
      "Adjusted learning rates: lr_d = 1.8e-05 and lr_g = 0.00018\n",
      "Epoch training time: 00:00:45.35\n",
      "Epoch [   40/  100] | d_loss: 1.2941 | g_loss: 0.8216\n",
      "Epoch [   40/  100] | d_loss: 1.2445 | g_loss: 0.8855\n",
      "Adjusted learning rates: lr_d = 1.62e-05 and lr_g = 0.000162\n",
      "Epoch training time: 00:00:45.08\n",
      "Epoch [   41/  100] | d_loss: 1.2383 | g_loss: 0.9305\n",
      "Epoch [   41/  100] | d_loss: 1.2340 | g_loss: 0.8979\n",
      "Adjusted learning rates: lr_d = 1.62e-05 and lr_g = 0.000162\n",
      "Epoch training time: 00:00:44.80\n",
      "Epoch [   42/  100] | d_loss: 1.2547 | g_loss: 0.8864\n",
      "Epoch [   42/  100] | d_loss: 1.2659 | g_loss: 0.8990\n",
      "Adjusted learning rates: lr_d = 1.62e-05 and lr_g = 0.000162\n",
      "Epoch training time: 00:00:44.88\n",
      "Epoch [   43/  100] | d_loss: 1.2463 | g_loss: 0.8477\n",
      "Epoch [   43/  100] | d_loss: 1.2064 | g_loss: 0.9132\n",
      "Adjusted learning rates: lr_d = 1.62e-05 and lr_g = 0.000162\n",
      "Epoch training time: 00:00:44.82\n",
      "Epoch [   44/  100] | d_loss: 1.2343 | g_loss: 0.8659\n",
      "Epoch [   44/  100] | d_loss: 1.2058 | g_loss: 0.8924\n",
      "Adjusted learning rates: lr_d = 1.62e-05 and lr_g = 0.000162\n",
      "Epoch training time: 00:00:44.86\n",
      "Epoch [   45/  100] | d_loss: 1.2322 | g_loss: 0.9551\n",
      "Epoch [   45/  100] | d_loss: 1.1831 | g_loss: 0.8734\n",
      "Adjusted learning rates: lr_d = 1.62e-05 and lr_g = 0.000162\n",
      "Epoch training time: 00:00:45.09\n",
      "Epoch [   46/  100] | d_loss: 1.2739 | g_loss: 0.8852\n",
      "Epoch [   46/  100] | d_loss: 1.2279 | g_loss: 0.9403\n",
      "Adjusted learning rates: lr_d = 1.62e-05 and lr_g = 0.000162\n",
      "Epoch training time: 00:00:44.72\n",
      "Epoch [   47/  100] | d_loss: 1.2221 | g_loss: 0.9025\n",
      "Epoch [   47/  100] | d_loss: 1.1531 | g_loss: 0.8829\n",
      "Adjusted learning rates: lr_d = 1.62e-05 and lr_g = 0.000162\n",
      "Epoch training time: 00:00:44.93\n",
      "Epoch [   48/  100] | d_loss: 1.1910 | g_loss: 0.9546\n",
      "Epoch [   48/  100] | d_loss: 1.1078 | g_loss: 0.9445\n",
      "Adjusted learning rates: lr_d = 1.62e-05 and lr_g = 0.000162\n",
      "Epoch training time: 00:00:44.81\n",
      "Epoch [   49/  100] | d_loss: 1.1473 | g_loss: 0.9238\n",
      "Epoch [   49/  100] | d_loss: 1.2124 | g_loss: 0.9213\n",
      "Adjusted learning rates: lr_d = 1.62e-05 and lr_g = 0.000162\n",
      "Epoch training time: 00:00:44.81\n",
      "Epoch [   50/  100] | d_loss: 1.1776 | g_loss: 0.9375\n",
      "Epoch [   50/  100] | d_loss: 1.2114 | g_loss: 0.9367\n",
      "Adjusted learning rates: lr_d = 1.62e-05 and lr_g = 0.000162\n",
      "Epoch training time: 00:00:44.79\n",
      "Epoch [   51/  100] | d_loss: 1.1797 | g_loss: 0.9936\n",
      "Epoch [   51/  100] | d_loss: 1.1122 | g_loss: 0.9794\n"
     ]
    }
   ],
   "source": [
    "# set number of epochs \n",
    "n_epochs = 100\n",
    "\n",
    "\"\"\"\n",
    "DON'T MODIFY ANYTHING IN THIS CELL\n",
    "\"\"\"\n",
    "# call training function\n",
    "losses = train(D, G, n_epochs, 'gan-model-G.pt', 'gan-model-D.pt')"
   ]
  },
  {
   "cell_type": "markdown",
   "metadata": {
    "collapsed": true
   },
   "source": [
    "## Training loss\n",
    "\n",
    "Plot the training losses for the generator and discriminator, recorded after each epoch."
   ]
  },
  {
   "cell_type": "code",
   "execution_count": null,
   "metadata": {},
   "outputs": [],
   "source": [
    "fig, ax = plt.subplots()\n",
    "losses = np.array(losses)\n",
    "plt.plot(losses.T[0], label='Discriminator', alpha=0.5)\n",
    "plt.plot(losses.T[1], label='Generator', alpha=0.5)\n",
    "plt.title(\"Training Losses\")\n",
    "plt.legend()"
   ]
  },
  {
   "cell_type": "markdown",
   "metadata": {
    "collapsed": true
   },
   "source": [
    "### Generator samples from training\n",
    "\n",
    "View samples of images from the generator, and answer a question about the strengths and weaknesses of your trained models."
   ]
  },
  {
   "cell_type": "code",
   "execution_count": null,
   "metadata": {},
   "outputs": [],
   "source": [
    "# helper function for viewing a list of passed in sample images\n",
    "def view_samples(epoch, samples):\n",
    "    fig, axes = plt.subplots(figsize=(16,4), nrows=2, ncols=8, sharey=True, sharex=True)\n",
    "    for ax, img in zip(axes.flatten(), samples[epoch]):\n",
    "        img = img.detach().cpu().numpy()\n",
    "        img = np.transpose(img, (1, 2, 0))\n",
    "        img = ((img + 1)*255 / (2)).astype(np.uint8)\n",
    "        ax.xaxis.set_visible(False)\n",
    "        ax.yaxis.set_visible(False)\n",
    "        im = ax.imshow(img.reshape((32,32,3)))"
   ]
  },
  {
   "cell_type": "code",
   "execution_count": null,
   "metadata": {},
   "outputs": [],
   "source": [
    "# Load samples from generator, taken while training\n",
    "with open('train_samples.pkl', 'rb') as f:\n",
    "    samples = pkl.load(f)"
   ]
  },
  {
   "cell_type": "code",
   "execution_count": null,
   "metadata": {},
   "outputs": [],
   "source": [
    "len(samples)"
   ]
  },
  {
   "cell_type": "code",
   "execution_count": null,
   "metadata": {},
   "outputs": [],
   "source": [
    "_ = view_samples(1, samples)"
   ]
  },
  {
   "cell_type": "code",
   "execution_count": null,
   "metadata": {},
   "outputs": [],
   "source": [
    "_ = view_samples(2, samples)"
   ]
  },
  {
   "cell_type": "code",
   "execution_count": null,
   "metadata": {},
   "outputs": [],
   "source": [
    "_ = view_samples(3, samples)"
   ]
  },
  {
   "cell_type": "code",
   "execution_count": null,
   "metadata": {},
   "outputs": [],
   "source": [
    "_ = view_samples(10, samples)"
   ]
  },
  {
   "cell_type": "code",
   "execution_count": null,
   "metadata": {},
   "outputs": [],
   "source": [
    "_ = view_samples(20, samples)"
   ]
  },
  {
   "cell_type": "code",
   "execution_count": null,
   "metadata": {},
   "outputs": [],
   "source": [
    "_ = view_samples(30, samples)"
   ]
  },
  {
   "cell_type": "code",
   "execution_count": null,
   "metadata": {},
   "outputs": [],
   "source": [
    "_ = view_samples(40, samples)"
   ]
  },
  {
   "cell_type": "code",
   "execution_count": null,
   "metadata": {},
   "outputs": [],
   "source": [
    "_ = view_samples(50, samples)"
   ]
  },
  {
   "cell_type": "code",
   "execution_count": null,
   "metadata": {},
   "outputs": [],
   "source": [
    "_ = view_samples(60, samples)"
   ]
  },
  {
   "cell_type": "code",
   "execution_count": null,
   "metadata": {},
   "outputs": [],
   "source": [
    "_ = view_samples(70, samples)"
   ]
  },
  {
   "cell_type": "code",
   "execution_count": null,
   "metadata": {},
   "outputs": [],
   "source": [
    "_ = view_samples(80, samples)"
   ]
  },
  {
   "cell_type": "code",
   "execution_count": null,
   "metadata": {},
   "outputs": [],
   "source": [
    "_ = view_samples(90, samples)"
   ]
  },
  {
   "cell_type": "code",
   "execution_count": null,
   "metadata": {},
   "outputs": [],
   "source": [
    "_ = view_samples(-1, samples)"
   ]
  },
  {
   "cell_type": "code",
   "execution_count": null,
   "metadata": {},
   "outputs": [],
   "source": [
    "#reload model\n",
    "D.load_state_dict(torch.load('gan-model-D.pt'))\n",
    "G.load_state_dict(torch.load('gan-model-G.pt'))"
   ]
  },
  {
   "cell_type": "markdown",
   "metadata": {},
   "source": [
    "### Generate new images with a new random z"
   ]
  },
  {
   "cell_type": "code",
   "execution_count": null,
   "metadata": {},
   "outputs": [],
   "source": [
    "# Let's generate a new set of pictures!\n",
    "# Create a new latent vector z2\n",
    "z2 = np.random.uniform(-1, 1, size=(sample_size, z_size))\n",
    "z2 = torch.from_numpy(z2).float()\n",
    "samples2 = []\n",
    "if train_on_gpu:\n",
    "    z2 = z2.cuda()"
   ]
  },
  {
   "cell_type": "code",
   "execution_count": null,
   "metadata": {},
   "outputs": [],
   "source": [
    "G.eval() # for generating samples\n",
    "samples_z2 = G(z2)\n",
    "samples2.append(samples_z2)\n",
    "\n",
    "_ = view_samples(-1, samples2)"
   ]
  },
  {
   "cell_type": "markdown",
   "metadata": {},
   "source": [
    "### Latent vector arithmetics"
   ]
  },
  {
   "cell_type": "code",
   "execution_count": null,
   "metadata": {},
   "outputs": [],
   "source": [
    "# let us do some latent vector arithmetics! \n",
    "\n",
    "#interpolate/morph between two image sets by change weight1 between 0 and 1\n",
    "weight = 0.5\n",
    "z_interpol = (weight*fixed_z + (1-weight)*z2)/2\n",
    "samples_interpol = []\n",
    "samples_z_interpol = G(z_interpol)\n",
    "samples_interpol.append(samples_z_interpol)\n",
    "\n",
    "_ = view_samples(-1, samples_interpol)\n"
   ]
  },
  {
   "cell_type": "markdown",
   "metadata": {},
   "source": [
    "The interpolated images/faces are very similar to each other, that is a remarkable result! This happens even if generate a new set of images with a new random z2-vector. The images still look similar!"
   ]
  },
  {
   "cell_type": "markdown",
   "metadata": {},
   "source": [
    "## Training without discriminator label smoothing\n",
    "\n",
    "Until now, all the training was done with applying label smoothing with a factor 0.9. I wanted to see myself what happens how well my model train, what images will it generate after 100 epochs. So let's check first the losses:\n",
    "\n",
    "![Training Losses without discriminator label smoothing](img/LossesWithoutSmoothing.png)\n",
    "\n",
    "I was quite surprised, when I checked this plot and compared it to the previous loss data plot (with smoothing=0.9)! Shouldn't the model be less stable? What about generated image quality? Let's check next!"
   ]
  },
  {
   "cell_type": "code",
   "execution_count": null,
   "metadata": {},
   "outputs": [],
   "source": [
    "#Let's compare the generated images without applying label smoothing\n",
    "with open('train_samples_woLabelSmoothing.pkl', 'rb') as f:\n",
    "    samples = pkl.load(f)"
   ]
  },
  {
   "cell_type": "code",
   "execution_count": null,
   "metadata": {},
   "outputs": [],
   "source": [
    "_ = view_samples(90, samples)"
   ]
  },
  {
   "cell_type": "markdown",
   "metadata": {},
   "source": [
    "The generated images without applied smoothing are similar in quality to the generated images with applied smoothing. "
   ]
  },
  {
   "cell_type": "markdown",
   "metadata": {},
   "source": [
    "### Question: What do you notice about your generated samples and how might you improve this model?\n",
    "When you answer this question, consider the following factors:\n",
    "* The dataset is biased; it is made of \"celebrity\" faces that are mostly white\n",
    "* Model size; larger models have the opportunity to learn more features in a data feature space\n",
    "* Optimization strategy; optimizers and number of epochs affect your final result\n"
   ]
  },
  {
   "cell_type": "markdown",
   "metadata": {},
   "source": [
    "**Answer:** \n",
    "- The dataset is biased by training the model mostly with white faces. For that reason, the model itself learns to generate mostly white faces. The model is trained to learn what is provided by the training input images. If we would train the model with faces all images with faces having sun-glasses, the model would generate faces with sun-glasses as well. Furthermore, GANs tend to generate images with less variation. This is due the batch-oriented training: the losses are calculated and summed up through batch. Then the overall batch losses are back-pgropagated to adapt the gradients. Furthermore the generated images improve with a reduced input training image variance, i.e. sorting out input faces with sun-glasses or avoiding input images with hats help to improve generated image quality while keeping the network architecture untouched. The more the input complexity is reduced, or the less features the network needs to train, the smaller is the required network capacity and therefore the smaller and simpler the network itself. On the other hand, the more versatile the training images are, the more versatile the generated will be. This comes at the cost of a bigger network with all its implications.\n",
    "- If the model is designed too small, the capacity of the model would not suffice to train all the features from all the input images. As a consequence, the model is generating inferior images. Increasing the model size increases the capacity as well, but also the training time and the risk for mode collapse. On the other hand, when designed carefully, the larger model provides superior images. When considering the generated images show acceptable results: we see clearly human faces, some are even good-looking!\n",
    "- The optimizer ADAM with the same settings as the DCGAN was chosen. The number of epochs required are directly depending on the learning rate chosen: with a lr=0.0002, the model is already trained after 10 epochs, such that the gained improvement for an additional training during 10 Epochs is marginal. For the same result and with a learning rate ten times smaller, a training period of 100 epochs is required. Investigation on decaying learning rate was done as well, see GAN design considerations: it is a bit surprizing to see the network getting unstable even though the learning rate is decaying constantly. We can watch the discriminator going down and the generator losses getting higher. Also the generated image quality seems to worse after 90 Epochs...\n",
    "\n"
   ]
  },
  {
   "cell_type": "markdown",
   "metadata": {},
   "source": [
    "### GAN design considerations\n",
    "\n",
    "- [x] training without and with label smoothing of 0.9 was done, images qualities were compared. The results are a bit the opposite what I was expecting. See comments above.\n",
    "- [x] the weight initialization is crucial for the stability!\n",
    "- [x] applied batch norm to generator and discriminator\n",
    "- [x] apply smaller learning rate to the discriminator than for the generator for improved stability. A factor of 10 was chosen.\n",
    "- [x] Upper bound of a constant learning rate for the discriminator: 0.0002, model generates acceptable images after 70-100 Epochs. Model showed first signs of instability after ~90 Epochs. \n",
    "- [x] Lower bound of a constant learning rate for the discriminator: 0.00001, generated images are poor even after 100 epochs. At least 100 more epochs recomended.     \n",
    "- [x] apply change betas from ADAM. beta1=0.5, beta2=0.999 \n",
    "- [x] apply decaying learnig-rate by using pytorch built-in method StepLR() for reasonable training time, improved convergence and generated image quality. On the first attempt, the generated images were disappointing and unexpected, even after 100 Epochs and obviously inferior to the training of the models with constant learning rates. The step_size=1 and the gamma=0.9 were forcing the learning rate way too fast down. The final learning rates were lr_g = 5.3e-9, lr_d = 5.31e-10. Obviously the learning stopped too early by forcing the learning rates closer to zero. A priori, we do not know exactly when we should stop further training models. Several, time-consuming iterations are required in order to figure out the optimium. I think it is worth to further investigate on decaying or even cycling learning rates.\n",
    "- [x] Added generation of images without the need to re-train the network\n",
    "- [x] Added a new set of images generated\n",
    "- [x] Added image-dataset interpolation/morphing with latent vector arithmetics \n",
    "- [ ] Cyclic learning rates\n",
    "- [x] saving/loading models \n",
    "- [x] resume training (using models loading)\n",
    "- [x] training time measurement\n",
    "- [ ] add animated training sample image\n",
    "- [ ] add animated morphing using latent vector arithmetics\n",
    "- [ ] saving/loading learning rates for resuming training\n",
    "- [ ] generate images with a new z-vectors or z-vector arithmetic to interpolate between different pictures or to generate controlled new ones.\n",
    "- [ ] increase generated image size to 64, 128, 256\n",
    "- [ ] Another promising approach is the ProGAN, the progressive growing GAN with a lot of good new techniques to improve quality of the generated images, to improve stability. highly recommended to investigate!\n",
    "- [ ] How can we benchmark a GAN and its generated images? Could we design a neural network that is able to assess the generated images in an unsupervised manner? The Frechet Inception Distance (FID) could be way the forward. See link below!\n",
    "- ...\n",
    "\n",
    "\n",
    "I have added a few papers / articles which I had a read\n",
    "- [Must-Read Papers on GANs](https://towardsdatascience.com/must-read-papers-on-gans-b665bbae3317)\n",
    "- [GAN — Ways to improve GAN performance](https://towardsdatascience.com/gan-ways-to-improve-gan-performance-acf37f9f59b)\n",
    "- [Progressive Growing of GANs for Improved Quality, Stability, and Variation](https://arxiv.org/abs/1710.10196)\n",
    "- [Avoiding the vanishing gradients problem using gradient noise addition](https://towardsdatascience.com/avoiding-the-vanishing-gradients-problem-96183fd03343)\n",
    "- [Adaptive - and Cyclical Learning Rates using PyTorch](https://towardsdatascience.com/adaptive-and-cyclical-learning-rates-using-pytorch-2bf904d18dee)\n",
    "- [GAN — Some cool applications of GANs](https://medium.com/@jonathan_hui/gan-some-cool-applications-of-gans-4c9ecca35900)\n",
    "- [How to Implement the Frechet Inception Distance (FID) for Evaluating GANs](https://machinelearningmastery.com/how-to-implement-the-frechet-inception-distance-fid-from-scratch/)\n",
    "\n",
    "\n",
    "\n"
   ]
  },
  {
   "cell_type": "markdown",
   "metadata": {},
   "source": [
    "### Submitting This Project\n",
    "When submitting this project, make sure to run all the cells before saving the notebook. Save the notebook file as \"dlnd_face_generation.ipynb\" and save it as a HTML file under \"File\" -> \"Download as\". Include the \"problem_unittests.py\" files in your submission."
   ]
  }
 ],
 "metadata": {
  "kernelspec": {
   "display_name": "Python 3",
   "language": "python",
   "name": "python3"
  },
  "language_info": {
   "codemirror_mode": {
    "name": "ipython",
    "version": 3
   },
   "file_extension": ".py",
   "mimetype": "text/x-python",
   "name": "python",
   "nbconvert_exporter": "python",
   "pygments_lexer": "ipython3",
   "version": "3.7.4"
  }
 },
 "nbformat": 4,
 "nbformat_minor": 1
}
